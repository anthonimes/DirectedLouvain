{
 "cells": [
  {
   "cell_type": "code",
   "execution_count": 1,
   "id": "c32f62b6-dc27-4b42-8035-ba3f1a84a05f",
   "metadata": {},
   "outputs": [
    {
     "name": "stderr",
     "output_type": "stream",
     "text": [
      "renumbering graph...\n",
      "18292\n",
      "initializing graph...\n",
      "number of nodes: 18292\n",
      "number of arcs: 36507\n",
      "total weight: 36507\n",
      "done.\n"
     ]
    }
   ],
   "source": [
    "import directedlouvain as dl\n",
    "dl_obj=dl.Community(\"../../graph/graph.txt\")"
   ]
  },
  {
   "cell_type": "code",
   "execution_count": 2,
   "id": "bd564d9b-370b-4846-84a5-e803cad68e52",
   "metadata": {},
   "outputs": [
    {
     "name": "stderr",
     "output_type": "stream",
     "text": [
      "level 0:\n",
      "  network size: 18292 nodes, 36507 arcs, 36507 weight.\n",
      "  modularity increased from -0.0877099 to 0.335669\n",
      "level 1:\n",
      "  network size: 486 nodes, 3055 arcs, 36507 weight.\n",
      "  modularity increased from 0.335669 to 0.355001\n",
      "level 2:\n",
      "  network size: 182 nodes, 1027 arcs, 36507 weight.\n",
      "  modularity increased from 0.355001 to 0.355896\n",
      "level 3:\n",
      "  network size: 140 nodes, 696 arcs, 36507 weight.\n",
      "  modularity increased from 0.355896 to 0.355899\n",
      "level 4:\n",
      "  network size: 139 nodes, 688 arcs, 36507 weight.\n",
      "  modularity increased from 0.355899 to 0.355899\n"
     ]
    }
   ],
   "source": [
    "import contextlib\n",
    "output=open(\"logcom\", \"w\")\n",
    "with contextlib.redirect_stdout(output):\n",
    "    dl_obj.run(verbose=True)\n",
    "output.close()"
   ]
  },
  {
   "cell_type": "code",
   "execution_count": 3,
   "id": "3f92714a-e3b7-4d03-8b8c-c30970e403eb",
   "metadata": {
    "tags": []
   },
   "outputs": [],
   "source": [
    "output=open(\"logcomlevel2\", \"w\")\n",
    "with contextlib.redirect_stdout(output):\n",
    "    dl_obj.print_level(2)\n",
    "output.close()"
   ]
  },
  {
   "cell_type": "code",
   "execution_count": null,
   "id": "5781e135-ccdd-4d7f-aa65-2d089c091028",
   "metadata": {},
   "outputs": [],
   "source": []
  }
 ],
 "metadata": {
  "kernelspec": {
   "display_name": "py39",
   "language": "python",
   "name": "py39"
  },
  "language_info": {
   "codemirror_mode": {
    "name": "ipython",
    "version": 3
   },
   "file_extension": ".py",
   "mimetype": "text/x-python",
   "name": "python",
   "nbconvert_exporter": "python",
   "pygments_lexer": "ipython3",
   "version": "3.9.12"
  }
 },
 "nbformat": 4,
 "nbformat_minor": 5
}
